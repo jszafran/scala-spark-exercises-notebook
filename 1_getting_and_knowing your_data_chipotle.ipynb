{
 "cells": [
  {
   "cell_type": "markdown",
   "metadata": {},
   "source": [
    "# Getting and Knowing your Data"
   ]
  },
  {
   "cell_type": "markdown",
   "metadata": {},
   "source": [
    "Read raw dataset:"
   ]
  },
  {
   "cell_type": "code",
   "execution_count": 1,
   "metadata": {},
   "outputs": [
    {
     "data": {
      "text/plain": [
       "Intitializing Scala interpreter ..."
      ]
     },
     "metadata": {},
     "output_type": "display_data"
    },
    {
     "data": {
      "text/plain": [
       "Spark Web UI available at http://192.168.1.5:4040\n",
       "SparkContext available as 'sc' (version = 3.1.1-amzn-0, master = local[*], app id = local-1647680154164)\n",
       "SparkSession available as 'spark'\n"
      ]
     },
     "metadata": {},
     "output_type": "display_data"
    },
    {
     "data": {
      "text/plain": [
       "import org.apache.spark.sql.types._\n",
       "import org.apache.spark.sql.functions._\n",
       "schema: org.apache.spark.sql.types.StructType = StructType(StructField(order_id,IntegerType,false), StructField(quantity,IntegerType,false), StructField(item_name,StringType,false), StructField(choice_description,StringType,true), StructField(item_price,StringType,false))\n",
       "path: String = /home/kuba/projects/pd-exercises-scala-spark/datasets/chipotle.tsv\n",
       "rawDF: org.apache.spark.sql.DataFrame = [order_id: int, quantity: int ... 3 more fields]\n"
      ]
     },
     "execution_count": 1,
     "metadata": {},
     "output_type": "execute_result"
    }
   ],
   "source": [
    "// input path\n",
    "import org.apache.spark.sql.types._\n",
    "import org.apache.spark.sql.functions._\n",
    "\n",
    "val schema = StructType(\n",
    "    Array(\n",
    "        StructField(\"order_id\", IntegerType, false),\n",
    "        StructField(\"quantity\", IntegerType, false),\n",
    "        StructField(\"item_name\", StringType, false),\n",
    "        StructField(\"choice_description\", StringType, true),\n",
    "        StructField(\"item_price\", StringType, false)\n",
    "    )\n",
    ")\n",
    "\n",
    "val path = new java.io.File(\"datasets/chipotle.tsv\").getCanonicalPath()\n",
    "val rawDF = spark.read\n",
    "    .option(\"header\", \"true\")\n",
    "    .option(\"delimiter\", \"\\t\")\n",
    "    .schema(schema)\n",
    "    .csv(path)\n",
    "\n"
   ]
  },
  {
   "cell_type": "markdown",
   "metadata": {},
   "source": [
    "Inspect data:"
   ]
  },
  {
   "cell_type": "code",
   "execution_count": 2,
   "metadata": {},
   "outputs": [
    {
     "name": "stdout",
     "output_type": "stream",
     "text": [
      "+--------+--------+--------------------+--------------------+----------+\n",
      "|order_id|quantity|           item_name|  choice_description|item_price|\n",
      "+--------+--------+--------------------+--------------------+----------+\n",
      "|       1|       1|Chips and Fresh T...|                NULL|    $2.39 |\n",
      "|       1|       1|                Izze|        [Clementine]|    $3.39 |\n",
      "|       1|       1|    Nantucket Nectar|             [Apple]|    $3.39 |\n",
      "|       1|       1|Chips and Tomatil...|                NULL|    $2.39 |\n",
      "|       2|       2|        Chicken Bowl|[Tomatillo-Red Ch...|   $16.98 |\n",
      "+--------+--------+--------------------+--------------------+----------+\n",
      "only showing top 5 rows\n",
      "\n"
     ]
    }
   ],
   "source": [
    "rawDF.show(5)"
   ]
  },
  {
   "cell_type": "markdown",
   "metadata": {},
   "source": [
    "### What is the number of observations in the dataset?"
   ]
  },
  {
   "cell_type": "code",
   "execution_count": 3,
   "metadata": {},
   "outputs": [
    {
     "data": {
      "text/plain": [
       "res1: Long = 4622\n"
      ]
     },
     "execution_count": 3,
     "metadata": {},
     "output_type": "execute_result"
    }
   ],
   "source": [
    "rawDF.count()"
   ]
  },
  {
   "cell_type": "markdown",
   "metadata": {},
   "source": [
    "### What is the number of columns in the dataset?"
   ]
  },
  {
   "cell_type": "code",
   "execution_count": 4,
   "metadata": {},
   "outputs": [
    {
     "data": {
      "text/plain": [
       "res2: Int = 5\n"
      ]
     },
     "execution_count": 4,
     "metadata": {},
     "output_type": "execute_result"
    }
   ],
   "source": [
    "rawDF.columns.size"
   ]
  },
  {
   "cell_type": "markdown",
   "metadata": {},
   "source": [
    "### Print the name of all the columns."
   ]
  },
  {
   "cell_type": "code",
   "execution_count": 5,
   "metadata": {},
   "outputs": [
    {
     "name": "stdout",
     "output_type": "stream",
     "text": [
      "order_id\n",
      "quantity\n",
      "item_name\n",
      "choice_description\n",
      "item_price\n"
     ]
    }
   ],
   "source": [
    "rawDF.columns.foreach(println)"
   ]
  },
  {
   "cell_type": "markdown",
   "metadata": {},
   "source": [
    "### Which was the most-ordered item?"
   ]
  },
  {
   "cell_type": "code",
   "execution_count": 6,
   "metadata": {},
   "outputs": [
    {
     "name": "stdout",
     "output_type": "stream",
     "text": [
      "+------------+----------+\n",
      "|   item_name|orders_sum|\n",
      "+------------+----------+\n",
      "|Chicken Bowl|       761|\n",
      "+------------+----------+\n",
      "only showing top 1 row\n",
      "\n"
     ]
    }
   ],
   "source": [
    "rawDF\n",
    "    .select(\"quantity\", \"item_name\")\n",
    "    .groupBy(\"item_name\")\n",
    "    .agg(sum(\"quantity\").alias(\"orders_sum\"))\n",
    "    .orderBy($\"orders_sum\".desc)\n",
    "    .show(1)"
   ]
  },
  {
   "cell_type": "markdown",
   "metadata": {},
   "source": [
    "### What was the most ordered item in the choice_description column?"
   ]
  },
  {
   "cell_type": "code",
   "execution_count": 19,
   "metadata": {},
   "outputs": [
    {
     "name": "stdout",
     "output_type": "stream",
     "text": [
      "+------------------+----------+\n",
      "|choice_description|orders_sum|\n",
      "+------------------+----------+\n",
      "|       [Diet Coke]|       159|\n",
      "+------------------+----------+\n",
      "only showing top 1 row\n",
      "\n"
     ]
    }
   ],
   "source": [
    "rawDF\n",
    "    .filter(!$\"choice_description\".contains(\"NULL\"))\n",
    "    .select(\"quantity\", \"choice_description\")\n",
    "    .groupBy(\"choice_description\")\n",
    "    .agg(sum(\"quantity\").alias(\"orders_sum\"))\n",
    "    .orderBy($\"orders_sum\".desc)\n",
    "    .show(1)"
   ]
  },
  {
   "cell_type": "markdown",
   "metadata": {},
   "source": [
    "### How many items were orderd in total?"
   ]
  },
  {
   "cell_type": "code",
   "execution_count": 26,
   "metadata": {},
   "outputs": [
    {
     "name": "stdout",
     "output_type": "stream",
     "text": [
      "+-------------------+\n",
      "|items_ordered_total|\n",
      "+-------------------+\n",
      "|               4972|\n",
      "+-------------------+\n",
      "\n"
     ]
    }
   ],
   "source": [
    "rawDF\n",
    "    .select(sum(\"quantity\").as(\"items_ordered_total\"))\n",
    "    .show()"
   ]
  },
  {
   "cell_type": "markdown",
   "metadata": {},
   "source": [
    "### Turn the item price into a float"
   ]
  },
  {
   "cell_type": "code",
   "execution_count": 49,
   "metadata": {},
   "outputs": [
    {
     "name": "stdout",
     "output_type": "stream",
     "text": [
      "+--------+--------+--------------------+--------------------+----------+\n",
      "|order_id|quantity|           item_name|  choice_description|item_price|\n",
      "+--------+--------+--------------------+--------------------+----------+\n",
      "|       1|       1|Chips and Fresh T...|                NULL|      2.39|\n",
      "|       1|       1|                Izze|        [Clementine]|      3.39|\n",
      "|       1|       1|    Nantucket Nectar|             [Apple]|      3.39|\n",
      "|       1|       1|Chips and Tomatil...|                NULL|      2.39|\n",
      "|       2|       2|        Chicken Bowl|[Tomatillo-Red Ch...|     16.98|\n",
      "+--------+--------+--------------------+--------------------+----------+\n",
      "only showing top 5 rows\n",
      "\n",
      "root\n",
      " |-- order_id: integer (nullable = true)\n",
      " |-- quantity: integer (nullable = true)\n",
      " |-- item_name: string (nullable = true)\n",
      " |-- choice_description: string (nullable = true)\n",
      " |-- item_price: float (nullable = true)\n",
      "\n"
     ]
    },
    {
     "data": {
      "text/plain": [
       "DF: org.apache.spark.sql.DataFrame = [order_id: int, quantity: int ... 3 more fields]\n"
      ]
     },
     "execution_count": 49,
     "metadata": {},
     "output_type": "execute_result"
    }
   ],
   "source": [
    "val DF = rawDF\n",
    "            .withColumn(\"item_price\", regexp_replace(col(\"item_price\"), \"\\\\$\", \"\").cast(\"Float\"))\n",
    "\n",
    "DF.show(5)\n",
    "DF.printSchema()"
   ]
  },
  {
   "cell_type": "markdown",
   "metadata": {},
   "source": [
    "### How much was the revenue for the period in the dataset?"
   ]
  },
  {
   "cell_type": "code",
   "execution_count": 54,
   "metadata": {},
   "outputs": [
    {
     "name": "stdout",
     "output_type": "stream",
     "text": [
      "+--------+\n",
      "| revenue|\n",
      "+--------+\n",
      "|39237.02|\n",
      "+--------+\n",
      "\n"
     ]
    }
   ],
   "source": [
    "DF\n",
    "    .select(round(sum($\"item_price\" * $\"quantity\"), 2).as(\"revenue\"))\n",
    "    .show()"
   ]
  },
  {
   "cell_type": "code",
   "execution_count": null,
   "metadata": {},
   "outputs": [],
   "source": []
  }
 ],
 "metadata": {
  "kernelspec": {
   "display_name": "spylon-kernel",
   "language": "scala",
   "name": "spylon-kernel"
  },
  "language_info": {
   "codemirror_mode": "text/x-scala",
   "file_extension": ".scala",
   "help_links": [
    {
     "text": "MetaKernel Magics",
     "url": "https://metakernel.readthedocs.io/en/latest/source/README.html"
    }
   ],
   "mimetype": "text/x-scala",
   "name": "scala",
   "pygments_lexer": "scala",
   "version": "0.4.1"
  }
 },
 "nbformat": 4,
 "nbformat_minor": 4
}
